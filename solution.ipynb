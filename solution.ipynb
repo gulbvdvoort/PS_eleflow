{
 "cells": [
  {
   "cell_type": "markdown",
   "metadata": {},
   "source": [
    "# **Importing libraries**"
   ]
  },
  {
   "cell_type": "code",
   "execution_count": null,
   "metadata": {},
   "outputs": [],
   "source": [
    "import os\n",
    "import pandas as pd\n",
    "import requests\n",
    "import json\n"
   ]
  },
  {
   "cell_type": "markdown",
   "metadata": {},
   "source": [
    "# **Solution for the first question**"
   ]
  },
  {
   "cell_type": "code",
   "execution_count": null,
   "metadata": {},
   "outputs": [],
   "source": [
    "print(\"Starting the process of loading the JSON data\")\n",
    "\n",
    "# Declare the path to the folder containing the JSON files\n",
    "path = r'source\\VRA'\n",
    "\n",
    "# Declare the variable to store all JSON data\n",
    "data_json = pd.DataFrame()\n",
    "\n",
    "# Loop through each JSON file in the folder\n",
    "for file in os.listdir(path):\n",
    "    with open(os.path.join(path, file), 'r',encoding='utf-8-sig') as f:\n",
    "        data = json.load(f)\n",
    "    print(f'Loaded {file} -> {len(data)} rows')\n",
    "    data_json = pd.concat([data_json, pd.DataFrame(data)], ignore_index=True)\n",
    "print(f\"Finished loading the JSON data -> {len(data_json)} rows\")\n",
    "\n",
    "# Normalize the headers for snake case pattern\n",
    "rename_dict = {\n",
    "    \"ICAOEmpresaAérea\":\"icao_empresa_aérea\",\n",
    "    \"NúmeroVoo\":\"número_voo\",\n",
    "    \"CódigoAutorização\":\"código_autorização\",\n",
    "    \"CódigoTipoLinha\":\"código_tipo_linha\",\n",
    "    \"ICAOAeródromoOrigem\":\"icao_aeródromo_origem\",\n",
    "    \"ICAOAeródromoDestino\":\"icao_aeródromo_destino\",\n",
    "    \"PartidaPrevista\":\"partida_prevista\",\n",
    "    \"PartidaReal\":\"partida_real\",\n",
    "    \"ChegadaPrevista\":\"chegada_prevista\",\n",
    "    \"ChegadaReal\":\"chegada_real\",\n",
    "    \"SituaçãoVoo\":\"situação_voo\",\n",
    "    \"CódigoJustificativa\":\"código_justificativa\"}\n",
    "\n",
    "data_json.rename(columns=rename_dict,inplace=True)\n",
    "print(data_json)\n",
    "\n",
    "# Saving the data as a SQLite file\n",
    "# data_json.to_sql('vra', con='sqlite:///vra.db', index=False)\n",
    "\n",
    "\n"
   ]
  },
  {
   "cell_type": "markdown",
   "metadata": {},
   "source": []
  }
 ],
 "metadata": {
  "kernelspec": {
   "display_name": "env",
   "language": "python",
   "name": "python3"
  },
  "language_info": {
   "codemirror_mode": {
    "name": "ipython",
    "version": 3
   },
   "file_extension": ".py",
   "mimetype": "text/x-python",
   "name": "python",
   "nbconvert_exporter": "python",
   "pygments_lexer": "ipython3",
   "version": "3.12.0"
  }
 },
 "nbformat": 4,
 "nbformat_minor": 2
}
