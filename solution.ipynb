{
 "cells": [
  {
   "cell_type": "markdown",
   "metadata": {},
   "source": [
    "# **Importing libraries**"
   ]
  },
  {
   "cell_type": "code",
   "execution_count": 1,
   "metadata": {},
   "outputs": [],
   "source": [
    "import os\n",
    "import pandas as pd\n",
    "import requests\n",
    "import json\n"
   ]
  },
  {
   "cell_type": "markdown",
   "metadata": {},
   "source": [
    "# **Solution for the first question**"
   ]
  },
  {
   "cell_type": "code",
   "execution_count": 2,
   "metadata": {},
   "outputs": [
    {
     "name": "stdout",
     "output_type": "stream",
     "text": [
      "Starting the process of loading the JSON data\n",
      "Loaded VRA_20211.json -> 58550 rows\n",
      "Loaded VRA_202110.json -> 59430 rows\n",
      "Loaded VRA_202111.json -> 64004 rows\n",
      "Loaded VRA_20212.json -> 43692 rows\n",
      "Loaded VRA_20213.json -> 39514 rows\n",
      "Loaded VRA_20214.json -> 29122 rows\n",
      "Loaded VRA_20215.json -> 35750 rows\n",
      "Loaded VRA_20216.json -> 40955 rows\n",
      "Loaded VRA_20217.json -> 53313 rows\n",
      "Loaded VRA_20218.json -> 54928 rows\n",
      "Loaded VRA_20219.json -> 56545 rows\n",
      "Finished loading the JSON data -> 535803 rows\n",
      "       icao_empresa_aérea número_voo código_autorização código_tipo_linha  \\\n",
      "0                     MWM       9702                  7                 C   \n",
      "1                     MWM       9701                  7                 C   \n",
      "2                     MWM       9701                  7                 C   \n",
      "3                     MWM       9700                  0                 C   \n",
      "4                     MWM       9700                  7                 C   \n",
      "...                   ...        ...                ...               ...   \n",
      "535798                AEA       0057                  0                 X   \n",
      "535799                AEA       0057                  0                 X   \n",
      "535800                AEA       0057                  0                 X   \n",
      "535801                AEA       0057                  0                 X   \n",
      "535802                AEA       0057                  0                 X   \n",
      "\n",
      "       icao_aeródromo_origem icao_aeródromo_destino     partida_prevista  \\\n",
      "0                       SBBE                   SBEG  2021-01-19 12:35:00   \n",
      "1                       SBGL                   SBPA  2021-01-26 10:00:00   \n",
      "2                       SBEG                   SBBE  2021-01-18 21:15:00   \n",
      "3                       SBGL                   SBEG  2021-01-14 20:30:00   \n",
      "4                       SBKP                   SBEG  2021-01-24 11:30:00   \n",
      "...                      ...                    ...                  ...   \n",
      "535798                  LEMD                   SBGR  2021-09-19 18:45:00   \n",
      "535799                  LEMD                   SBGR  2021-09-05 18:45:00   \n",
      "535800                  LEMD                   SBGR  2021-09-08 18:45:00   \n",
      "535801                  LEMD                   SBGR  2021-09-15 18:45:00   \n",
      "535802                  LEMD                   SBGR  2021-09-01 18:45:00   \n",
      "\n",
      "               partida_real     chegada_prevista         chegada_real  \\\n",
      "0       2021-01-19 17:17:00  2021-01-19 14:45:00  2021-01-19 19:22:00   \n",
      "1       2021-01-26 09:55:00  2021-01-26 12:05:00  2021-01-26 12:04:00   \n",
      "2       2021-01-18 22:35:00  2021-01-18 23:20:00  2021-01-19 00:50:00   \n",
      "3       2021-01-14 20:27:00  2021-01-15 00:45:00  2021-01-15 00:39:00   \n",
      "4       2021-01-24 19:35:00  2021-01-24 15:10:00  2021-01-24 23:21:00   \n",
      "...                     ...                  ...                  ...   \n",
      "535798  2021-09-19 19:12:00  2021-09-20 05:25:00  2021-09-20 05:02:00   \n",
      "535799  2021-09-05 19:13:00  2021-09-06 05:25:00  2021-09-06 05:21:00   \n",
      "535800  2021-09-08 20:02:00  2021-09-09 05:25:00  2021-09-09 05:45:00   \n",
      "535801  2021-09-15 19:25:00  2021-09-16 05:25:00  2021-09-16 05:11:00   \n",
      "535802  2021-09-01 19:22:00  2021-09-02 05:25:00  2021-09-02 05:06:00   \n",
      "\n",
      "       situação_voo código_justificativa  \n",
      "0         REALIZADO                  N/A  \n",
      "1         REALIZADO                  N/A  \n",
      "2         REALIZADO                  N/A  \n",
      "3         REALIZADO                  N/A  \n",
      "4         REALIZADO                  N/A  \n",
      "...             ...                  ...  \n",
      "535798    REALIZADO                  N/A  \n",
      "535799    REALIZADO                  N/A  \n",
      "535800    REALIZADO                  N/A  \n",
      "535801    REALIZADO                  N/A  \n",
      "535802    REALIZADO                  N/A  \n",
      "\n",
      "[535803 rows x 12 columns]\n"
     ]
    },
    {
     "ename": "ImportError",
     "evalue": "Using URI string without sqlalchemy installed.",
     "output_type": "error",
     "traceback": [
      "\u001b[1;31m---------------------------------------------------------------------------\u001b[0m",
      "\u001b[1;31mImportError\u001b[0m                               Traceback (most recent call last)",
      "\u001b[1;32md:\\Arquivos\\Profissional\\_Processos Seletivos\\Eleflow\\PS_eleflow\\solution.ipynb Cell 4\u001b[0m line \u001b[0;36m3\n\u001b[0;32m     <a href='vscode-notebook-cell:/d%3A/Arquivos/Profissional/_Processos%20Seletivos/Eleflow/PS_eleflow/solution.ipynb#W3sZmlsZQ%3D%3D?line=35'>36</a>\u001b[0m \u001b[39mprint\u001b[39m(data_json)\n\u001b[0;32m     <a href='vscode-notebook-cell:/d%3A/Arquivos/Profissional/_Processos%20Seletivos/Eleflow/PS_eleflow/solution.ipynb#W3sZmlsZQ%3D%3D?line=37'>38</a>\u001b[0m \u001b[39m# Saving the data as a SQLite file\u001b[39;00m\n\u001b[1;32m---> <a href='vscode-notebook-cell:/d%3A/Arquivos/Profissional/_Processos%20Seletivos/Eleflow/PS_eleflow/solution.ipynb#W3sZmlsZQ%3D%3D?line=38'>39</a>\u001b[0m data_json\u001b[39m.\u001b[39;49mto_sql(\u001b[39m'\u001b[39;49m\u001b[39mvra\u001b[39;49m\u001b[39m'\u001b[39;49m, con\u001b[39m=\u001b[39;49m\u001b[39m'\u001b[39;49m\u001b[39msqlite:///vra.db\u001b[39;49m\u001b[39m'\u001b[39;49m, index\u001b[39m=\u001b[39;49m\u001b[39mFalse\u001b[39;49;00m)\n",
      "File \u001b[1;32md:\\Arquivos\\Profissional\\_Processos Seletivos\\Eleflow\\PS_eleflow\\env\\Lib\\site-packages\\pandas\\util\\_decorators.py:333\u001b[0m, in \u001b[0;36mdeprecate_nonkeyword_arguments.<locals>.decorate.<locals>.wrapper\u001b[1;34m(*args, **kwargs)\u001b[0m\n\u001b[0;32m    327\u001b[0m \u001b[39mif\u001b[39;00m \u001b[39mlen\u001b[39m(args) \u001b[39m>\u001b[39m num_allow_args:\n\u001b[0;32m    328\u001b[0m     warnings\u001b[39m.\u001b[39mwarn(\n\u001b[0;32m    329\u001b[0m         msg\u001b[39m.\u001b[39mformat(arguments\u001b[39m=\u001b[39m_format_argument_list(allow_args)),\n\u001b[0;32m    330\u001b[0m         \u001b[39mFutureWarning\u001b[39;00m,\n\u001b[0;32m    331\u001b[0m         stacklevel\u001b[39m=\u001b[39mfind_stack_level(),\n\u001b[0;32m    332\u001b[0m     )\n\u001b[1;32m--> 333\u001b[0m \u001b[39mreturn\u001b[39;00m func(\u001b[39m*\u001b[39;49margs, \u001b[39m*\u001b[39;49m\u001b[39m*\u001b[39;49mkwargs)\n",
      "File \u001b[1;32md:\\Arquivos\\Profissional\\_Processos Seletivos\\Eleflow\\PS_eleflow\\env\\Lib\\site-packages\\pandas\\core\\generic.py:3008\u001b[0m, in \u001b[0;36mNDFrame.to_sql\u001b[1;34m(self, name, con, schema, if_exists, index, index_label, chunksize, dtype, method)\u001b[0m\n\u001b[0;32m   2813\u001b[0m \u001b[39m\u001b[39m\u001b[39m\"\"\"\u001b[39;00m\n\u001b[0;32m   2814\u001b[0m \u001b[39mWrite records stored in a DataFrame to a SQL database.\u001b[39;00m\n\u001b[0;32m   2815\u001b[0m \n\u001b[1;32m   (...)\u001b[0m\n\u001b[0;32m   3004\u001b[0m \u001b[39m[(1,), (None,), (2,)]\u001b[39;00m\n\u001b[0;32m   3005\u001b[0m \u001b[39m\"\"\"\u001b[39;00m  \u001b[39m# noqa: E501\u001b[39;00m\n\u001b[0;32m   3006\u001b[0m \u001b[39mfrom\u001b[39;00m \u001b[39mpandas\u001b[39;00m\u001b[39m.\u001b[39;00m\u001b[39mio\u001b[39;00m \u001b[39mimport\u001b[39;00m sql\n\u001b[1;32m-> 3008\u001b[0m \u001b[39mreturn\u001b[39;00m sql\u001b[39m.\u001b[39;49mto_sql(\n\u001b[0;32m   3009\u001b[0m     \u001b[39mself\u001b[39;49m,\n\u001b[0;32m   3010\u001b[0m     name,\n\u001b[0;32m   3011\u001b[0m     con,\n\u001b[0;32m   3012\u001b[0m     schema\u001b[39m=\u001b[39;49mschema,\n\u001b[0;32m   3013\u001b[0m     if_exists\u001b[39m=\u001b[39;49mif_exists,\n\u001b[0;32m   3014\u001b[0m     index\u001b[39m=\u001b[39;49mindex,\n\u001b[0;32m   3015\u001b[0m     index_label\u001b[39m=\u001b[39;49mindex_label,\n\u001b[0;32m   3016\u001b[0m     chunksize\u001b[39m=\u001b[39;49mchunksize,\n\u001b[0;32m   3017\u001b[0m     dtype\u001b[39m=\u001b[39;49mdtype,\n\u001b[0;32m   3018\u001b[0m     method\u001b[39m=\u001b[39;49mmethod,\n\u001b[0;32m   3019\u001b[0m )\n",
      "File \u001b[1;32md:\\Arquivos\\Profissional\\_Processos Seletivos\\Eleflow\\PS_eleflow\\env\\Lib\\site-packages\\pandas\\io\\sql.py:787\u001b[0m, in \u001b[0;36mto_sql\u001b[1;34m(frame, name, con, schema, if_exists, index, index_label, chunksize, dtype, method, engine, **engine_kwargs)\u001b[0m\n\u001b[0;32m    782\u001b[0m \u001b[39melif\u001b[39;00m \u001b[39mnot\u001b[39;00m \u001b[39misinstance\u001b[39m(frame, DataFrame):\n\u001b[0;32m    783\u001b[0m     \u001b[39mraise\u001b[39;00m \u001b[39mNotImplementedError\u001b[39;00m(\n\u001b[0;32m    784\u001b[0m         \u001b[39m\"\u001b[39m\u001b[39m'\u001b[39m\u001b[39mframe\u001b[39m\u001b[39m'\u001b[39m\u001b[39m argument should be either a Series or a DataFrame\u001b[39m\u001b[39m\"\u001b[39m\n\u001b[0;32m    785\u001b[0m     )\n\u001b[1;32m--> 787\u001b[0m \u001b[39mwith\u001b[39;00m pandasSQL_builder(con, schema\u001b[39m=\u001b[39;49mschema, need_transaction\u001b[39m=\u001b[39;49m\u001b[39mTrue\u001b[39;49;00m) \u001b[39mas\u001b[39;00m pandas_sql:\n\u001b[0;32m    788\u001b[0m     \u001b[39mreturn\u001b[39;00m pandas_sql\u001b[39m.\u001b[39mto_sql(\n\u001b[0;32m    789\u001b[0m         frame,\n\u001b[0;32m    790\u001b[0m         name,\n\u001b[1;32m   (...)\u001b[0m\n\u001b[0;32m    799\u001b[0m         \u001b[39m*\u001b[39m\u001b[39m*\u001b[39mengine_kwargs,\n\u001b[0;32m    800\u001b[0m     )\n",
      "File \u001b[1;32md:\\Arquivos\\Profissional\\_Processos Seletivos\\Eleflow\\PS_eleflow\\env\\Lib\\site-packages\\pandas\\io\\sql.py:848\u001b[0m, in \u001b[0;36mpandasSQL_builder\u001b[1;34m(con, schema, need_transaction)\u001b[0m\n\u001b[0;32m    845\u001b[0m sqlalchemy \u001b[39m=\u001b[39m import_optional_dependency(\u001b[39m\"\u001b[39m\u001b[39msqlalchemy\u001b[39m\u001b[39m\"\u001b[39m, errors\u001b[39m=\u001b[39m\u001b[39m\"\u001b[39m\u001b[39mignore\u001b[39m\u001b[39m\"\u001b[39m)\n\u001b[0;32m    847\u001b[0m \u001b[39mif\u001b[39;00m \u001b[39misinstance\u001b[39m(con, \u001b[39mstr\u001b[39m) \u001b[39mand\u001b[39;00m sqlalchemy \u001b[39mis\u001b[39;00m \u001b[39mNone\u001b[39;00m:\n\u001b[1;32m--> 848\u001b[0m     \u001b[39mraise\u001b[39;00m \u001b[39mImportError\u001b[39;00m(\u001b[39m\"\u001b[39m\u001b[39mUsing URI string without sqlalchemy installed.\u001b[39m\u001b[39m\"\u001b[39m)\n\u001b[0;32m    850\u001b[0m \u001b[39mif\u001b[39;00m sqlalchemy \u001b[39mis\u001b[39;00m \u001b[39mnot\u001b[39;00m \u001b[39mNone\u001b[39;00m \u001b[39mand\u001b[39;00m \u001b[39misinstance\u001b[39m(con, (\u001b[39mstr\u001b[39m, sqlalchemy\u001b[39m.\u001b[39mengine\u001b[39m.\u001b[39mConnectable)):\n\u001b[0;32m    851\u001b[0m     \u001b[39mreturn\u001b[39;00m SQLDatabase(con, schema, need_transaction)\n",
      "\u001b[1;31mImportError\u001b[0m: Using URI string without sqlalchemy installed."
     ]
    }
   ],
   "source": [
    "print(\"Starting the process of loading the JSON data\")\n",
    "\n",
    "# Declare the path to the folder containing the JSON files\n",
    "path = r'source\\VRA'\n",
    "\n",
    "# Declare the variable to store all JSON data\n",
    "data_json = pd.DataFrame()\n",
    "\n",
    "# Loop through each JSON file in the folder\n",
    "for file in os.listdir(path):\n",
    "    with open(os.path.join(path, file), 'r',encoding='utf-8-sig') as f:\n",
    "        data = json.load(f)\n",
    "        # data = pd.read_json(f)\n",
    "        # data = f.read()\n",
    "    # data = json.loads(data)\n",
    "    print(f'Loaded {file} -> {len(data)} rows')\n",
    "    data_json = pd.concat([data_json, pd.DataFrame(data)], ignore_index=True)\n",
    "print(f\"Finished loading the JSON data -> {len(data_json)} rows\")\n",
    "\n",
    "# Normalize the headers for snake case pattern\n",
    "rename_dict = {\n",
    "    \"ICAOEmpresaAérea\":\"icao_empresa_aérea\",\n",
    "    \"NúmeroVoo\":\"número_voo\",\n",
    "    \"CódigoAutorização\":\"código_autorização\",\n",
    "    \"CódigoTipoLinha\":\"código_tipo_linha\",\n",
    "    \"ICAOAeródromoOrigem\":\"icao_aeródromo_origem\",\n",
    "    \"ICAOAeródromoDestino\":\"icao_aeródromo_destino\",\n",
    "    \"PartidaPrevista\":\"partida_prevista\",\n",
    "    \"PartidaReal\":\"partida_real\",\n",
    "    \"ChegadaPrevista\":\"chegada_prevista\",\n",
    "    \"ChegadaReal\":\"chegada_real\",\n",
    "    \"SituaçãoVoo\":\"situação_voo\",\n",
    "    \"CódigoJustificativa\":\"código_justificativa\"}\n",
    "\n",
    "data_json.rename(columns=rename_dict,inplace=True)\n",
    "print(data_json)\n",
    "\n",
    "# Saving the data as a SQLite file\n",
    "# data_json.to_sql('vra', con='sqlite:///vra.db', index=False)\n",
    "\n",
    "\n"
   ]
  },
  {
   "cell_type": "markdown",
   "metadata": {},
   "source": []
  }
 ],
 "metadata": {
  "kernelspec": {
   "display_name": "env",
   "language": "python",
   "name": "python3"
  },
  "language_info": {
   "codemirror_mode": {
    "name": "ipython",
    "version": 3
   },
   "file_extension": ".py",
   "mimetype": "text/x-python",
   "name": "python",
   "nbconvert_exporter": "python",
   "pygments_lexer": "ipython3",
   "version": "3.12.0"
  }
 },
 "nbformat": 4,
 "nbformat_minor": 2
}
